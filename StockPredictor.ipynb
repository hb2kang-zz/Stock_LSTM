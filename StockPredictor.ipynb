{
 "cells": [
  {
   "cell_type": "code",
   "execution_count": 30,
   "metadata": {
    "collapsed": false
   },
   "outputs": [],
   "source": [
    "#Dependencies\n",
    "\n",
    "import sys\n",
    "import os\n",
    "import numpy as np\n",
    "import matplotlib.pyplot as plt\n",
    "\n",
    "%matplotlib inline \n",
    "\n",
    "import pandas as pd\n",
    "from pandas import datetime\n",
    "import math, time\n",
    "import itertools\n",
    "from sklearn import preprocessing\n",
    "import datetime\n",
    "from operator import itemgetter\n",
    "from sklearn.metrics import mean_squared_error\n",
    "from math import sqrt\n",
    "from keras.models import Sequential\n",
    "from keras.layers.core import Dense, Dropout, Activation\n",
    "from keras.layers.recurrent import LSTM"
   ]
  },
  {
   "cell_type": "code",
   "execution_count": 2,
   "metadata": {
    "collapsed": false
   },
   "outputs": [],
   "source": [
    "#Retrieve data from Alpha Vantage\n",
    "\n",
    "def get_stock_data(stock_name, api_key, output_size):\n",
    "    url = 'https://www.alphavantage.co/query?function=TIME_SERIES_DAILY&symbol=%s&apikey=%s&datatype=csv&outputsize=%s' % (stock_name, api_key, output_size)\n",
    "    #load csv data from url\n",
    "    stocks = pd.read_csv(url)\n",
    "    #load data to DataFrame\n",
    "    df = pd.DataFrame(stocks)\n",
    "    \n",
    "    return df"
   ]
  },
  {
   "cell_type": "code",
   "execution_count": 3,
   "metadata": {
    "collapsed": false,
    "scrolled": false
   },
   "outputs": [
    {
     "name": "stdout",
     "output_type": "stream",
     "text": [
      "    timestamp   open     high    low  close    volume\n",
      "0  2017-07-19  73.50  74.0400  73.45  73.86  21769229\n",
      "1  2017-07-18  73.09  73.3900  72.66  73.30  26435296\n",
      "2  2017-07-17  72.80  73.4500  72.72  73.35  21481069\n",
      "3  2017-07-14  72.24  73.2700  71.96  72.78  25689303\n",
      "4  2017-07-13  71.50  72.0399  71.31  71.77  20149208\n",
      "5  2017-07-12  70.69  71.2800  70.55  71.15  17747461\n",
      "6  2017-07-11  70.00  70.6800  69.75  69.99  16880205\n",
      "7  2017-07-10  69.46  70.2500  69.20  69.98  14903400\n",
      "8  2017-07-07  68.70  69.8400  68.70  69.46  15897154\n",
      "9  2017-07-06  68.27  68.7800  68.12  68.57  20909161\n",
      "The shape of dataframe is:\n",
      "(4414, 6)\n"
     ]
    }
   ],
   "source": [
    "#Alpha Vantage\n",
    "\n",
    "api_key = '5HSLKBUWSP7B6DOX'\n",
    "stock_name = 'MSFT'\n",
    "\n",
    "output_size = 'full'\n",
    "df = get_stock_data(stock_name, api_key, output_size)\n",
    "\n",
    "print(df.head(10))\n",
    "\n",
    "print(\"The shape of dataframe is:\")\n",
    "\n",
    "print(df.shape)"
   ]
  },
  {
   "cell_type": "code",
   "execution_count": 4,
   "metadata": {
    "collapsed": false
   },
   "outputs": [
    {
     "data": {
      "text/html": [
       "<div>\n",
       "<table border=\"1\" class=\"dataframe\">\n",
       "  <thead>\n",
       "    <tr style=\"text-align: right;\">\n",
       "      <th></th>\n",
       "      <th>open</th>\n",
       "      <th>high</th>\n",
       "      <th>close</th>\n",
       "    </tr>\n",
       "  </thead>\n",
       "  <tbody>\n",
       "    <tr>\n",
       "      <th>0</th>\n",
       "      <td>73.50</td>\n",
       "      <td>74.0400</td>\n",
       "      <td>73.86</td>\n",
       "    </tr>\n",
       "    <tr>\n",
       "      <th>1</th>\n",
       "      <td>73.09</td>\n",
       "      <td>73.3900</td>\n",
       "      <td>73.30</td>\n",
       "    </tr>\n",
       "    <tr>\n",
       "      <th>2</th>\n",
       "      <td>72.80</td>\n",
       "      <td>73.4500</td>\n",
       "      <td>73.35</td>\n",
       "    </tr>\n",
       "    <tr>\n",
       "      <th>3</th>\n",
       "      <td>72.24</td>\n",
       "      <td>73.2700</td>\n",
       "      <td>72.78</td>\n",
       "    </tr>\n",
       "    <tr>\n",
       "      <th>4</th>\n",
       "      <td>71.50</td>\n",
       "      <td>72.0399</td>\n",
       "      <td>71.77</td>\n",
       "    </tr>\n",
       "  </tbody>\n",
       "</table>\n",
       "</div>"
      ],
      "text/plain": [
       "    open     high  close\n",
       "0  73.50  74.0400  73.86\n",
       "1  73.09  73.3900  73.30\n",
       "2  72.80  73.4500  73.35\n",
       "3  72.24  73.2700  72.78\n",
       "4  71.50  72.0399  71.77"
      ]
     },
     "execution_count": 4,
     "metadata": {},
     "output_type": "execute_result"
    }
   ],
   "source": [
    "#Feature selection and process\n",
    "\n",
    "data = df.drop(df.columns[[0,3,5]], axis=1)\n",
    "\n",
    "data.head(5)"
   ]
  },
  {
   "cell_type": "code",
   "execution_count": 5,
   "metadata": {
    "collapsed": false
   },
   "outputs": [
    {
     "name": "stdout",
     "output_type": "stream",
     "text": [
      "         open      high   close\n",
      "0      73.500   74.0400   73.86\n",
      "1      73.090   73.3900   73.30\n",
      "2      72.800   73.4500   73.35\n",
      "3      72.240   73.2700   72.78\n",
      "4      71.500   72.0399   71.77\n",
      "5      70.690   71.2800   71.15\n",
      "6      70.000   70.6800   69.99\n",
      "7      69.460   70.2500   69.98\n",
      "8      68.700   69.8400   69.46\n",
      "9      68.270   68.7800   68.57\n",
      "10     68.255   69.4400   69.08\n",
      "11     69.330   69.6000   68.17\n",
      "12     68.780   69.3800   68.93\n",
      "13     69.380   69.4900   68.49\n",
      "14     69.210   69.8410   69.80\n",
      "15     70.110   70.1800   69.21\n",
      "16     71.400   71.7100   70.53\n",
      "17     70.090   71.2500   71.21\n",
      "18     70.540   70.5900   70.26\n",
      "19     70.210   70.6200   70.27\n",
      "20     70.820   70.8700   69.91\n",
      "21     70.500   70.9400   70.87\n",
      "22     69.730   70.0300   70.00\n",
      "23     69.270   70.2100   69.90\n",
      "24     70.910   71.1000   70.27\n",
      "25     70.020   70.8200   70.65\n",
      "26     69.250   69.9400   69.78\n",
      "27     72.035   72.0800   70.32\n",
      "28     72.510   72.5200   71.95\n",
      "29     72.635   72.7700   72.39\n",
      "...       ...       ...     ...\n",
      "4384  101.230  101.7500   99.62\n",
      "4385  104.870  104.8700   99.94\n",
      "4386  103.890  106.5600  106.00\n",
      "4387  109.440  109.4400  104.00\n",
      "4388  106.440  110.0000  109.94\n",
      "4389  106.810  106.8700  106.62\n",
      "4390  104.370  108.0000  106.56\n",
      "4391  102.060  104.1900  103.62\n",
      "4392  102.440  103.9400  100.81\n",
      "4393   98.500  103.2500  102.94\n",
      "4394   97.620   98.1900   97.87\n",
      "4395   98.120  100.2500   98.25\n",
      "4396   99.890  101.1900   98.75\n",
      "4397  102.440  103.5000   99.37\n",
      "4398  101.000  103.8700  102.81\n",
      "4399  103.800  105.6900  101.25\n",
      "4400  107.000  107.2500  103.75\n",
      "4401  107.060  109.6900  106.00\n",
      "4402  110.500  111.5000  107.00\n",
      "4403  111.810  116.5000  115.31\n",
      "4404  107.190  113.9400  112.25\n",
      "4405  104.370  108.6200  107.81\n",
      "4406  108.500  108.8700  105.81\n",
      "4407  111.500  114.2500  109.37\n",
      "4408  113.440  113.6900  112.25\n",
      "4409  108.620  112.2500  111.44\n",
      "4410  112.190  113.8700  110.00\n",
      "4411  111.120  116.3700  113.81\n",
      "4412  113.560  117.1200  112.62\n",
      "4413  117.370  118.6200  116.56\n",
      "\n",
      "[4414 rows x 3 columns]\n"
     ]
    }
   ],
   "source": [
    "#Data to csv\n",
    "\n",
    "today = datetime.date.today()\n",
    "\n",
    "dir_path = os.path.dirname(os.path.realpath('StockPredictor.ipynb'))\n",
    "file_name = dir_path + \"/data/\" + stock_name +'_stock_%s.csv' % today\n",
    "data.to_csv(file_name)\n",
    "\n",
    "print(data)"
   ]
  },
  {
   "cell_type": "code",
   "execution_count": 6,
   "metadata": {
    "collapsed": false
   },
   "outputs": [
    {
     "data": {
      "text/html": [
       "<div>\n",
       "<table border=\"1\" class=\"dataframe\">\n",
       "  <thead>\n",
       "    <tr style=\"text-align: right;\">\n",
       "      <th></th>\n",
       "      <th>open</th>\n",
       "      <th>high</th>\n",
       "      <th>close</th>\n",
       "    </tr>\n",
       "  </thead>\n",
       "  <tbody>\n",
       "    <tr>\n",
       "      <th>0</th>\n",
       "      <td>0.7350</td>\n",
       "      <td>0.740400</td>\n",
       "      <td>0.7386</td>\n",
       "    </tr>\n",
       "    <tr>\n",
       "      <th>1</th>\n",
       "      <td>0.7309</td>\n",
       "      <td>0.733900</td>\n",
       "      <td>0.7330</td>\n",
       "    </tr>\n",
       "    <tr>\n",
       "      <th>2</th>\n",
       "      <td>0.7280</td>\n",
       "      <td>0.734500</td>\n",
       "      <td>0.7335</td>\n",
       "    </tr>\n",
       "    <tr>\n",
       "      <th>3</th>\n",
       "      <td>0.7224</td>\n",
       "      <td>0.732700</td>\n",
       "      <td>0.7278</td>\n",
       "    </tr>\n",
       "    <tr>\n",
       "      <th>4</th>\n",
       "      <td>0.7150</td>\n",
       "      <td>0.720399</td>\n",
       "      <td>0.7177</td>\n",
       "    </tr>\n",
       "  </tbody>\n",
       "</table>\n",
       "</div>"
      ],
      "text/plain": [
       "     open      high   close\n",
       "0  0.7350  0.740400  0.7386\n",
       "1  0.7309  0.733900  0.7330\n",
       "2  0.7280  0.734500  0.7335\n",
       "3  0.7224  0.732700  0.7278\n",
       "4  0.7150  0.720399  0.7177"
      ]
     },
     "execution_count": 6,
     "metadata": {},
     "output_type": "execute_result"
    }
   ],
   "source": [
    "#Feauture Scaling\n",
    "\n",
    "data['high'] = data['high'] / 100\n",
    "data['open'] = data['open'] / 100\n",
    "data['close'] = data['close'] / 100\n",
    "data.head(5)"
   ]
  },
  {
   "cell_type": "code",
   "execution_count": 7,
   "metadata": {
    "collapsed": true
   },
   "outputs": [],
   "source": [
    "#Function to seperate Training data and Testing data\n",
    "\n",
    "def load_data(stock, seq_len):\n",
    "    amount_of_features = len(stock.columns)\n",
    "    data = stock.as_matrix() #pd.DataFrame(stock)\n",
    "    sequence_length = seq_len + 1\n",
    "    result = []\n",
    "    for index in range(len(data) - sequence_length):\n",
    "        result.append(data[index: index + sequence_length])\n",
    "\n",
    "    result = np.array(result)\n",
    "    row = round(0.9 * result.shape[0])\n",
    "    train = result[:int(row), :]\n",
    "    x_train = train[:, :-1]\n",
    "    y_train = train[:, -1][:,-1]\n",
    "    x_test = result[int(row):, :-1]\n",
    "    y_test = result[int(row):, -1][:,-1]\n",
    "\n",
    "    x_train = np.reshape(x_train, (x_train.shape[0], x_train.shape[1], amount_of_features))\n",
    "    x_test = np.reshape(x_test, (x_test.shape[0], x_test.shape[1], amount_of_features))  \n",
    "\n",
    "    return [x_train, y_train, x_test, y_test]\n"
   ]
  },
  {
   "cell_type": "code",
   "execution_count": 13,
   "metadata": {
    "collapsed": false
   },
   "outputs": [],
   "source": [
    "#lSTM\n",
    "\n",
    "def lstm_model(layers):\n",
    "    model = Sequential()\n",
    "\n",
    "    model.add(LSTM(\n",
    "        input_dim=layers[0],\n",
    "        output_dim=layers[1],\n",
    "        return_sequences=True))\n",
    "    model.add(Dropout(0.2))\n",
    "\n",
    "    model.add(LSTM(\n",
    "        layers[2],\n",
    "        return_sequences=False))\n",
    "    model.add(Dropout(0.2))\n",
    "\n",
    "    model.add(Dense(\n",
    "        output_dim=layers[2]))\n",
    "    model.add(Activation(\"linear\"))\n",
    "\n",
    "    start = time.time()\n",
    "    model.compile(loss=\"mse\", optimizer=\"rmsprop\",metrics=['accuracy'])\n",
    "    print(\"Compilation Time : \", time.time() - start)\n",
    "    return model\n",
    "\n",
    "#seq2seq model\n",
    "\n",
    "def seq2seq(layers):\n",
    "        d = 0.2\n",
    "        model = Sequential()\n",
    "        model.add(LSTM(128, input_shape=(layers[1], layers[0]), return_sequences=True))\n",
    "        model.add(Dropout(d))\n",
    "        model.add(LSTM(64, input_shape=(layers[1], layers[0]), return_sequences=False))\n",
    "        model.add(Dropout(d))\n",
    "        model.add(Dense(16, activation='relu'))        \n",
    "        model.add(Dense(1, activation='linear'))\n",
    "        model.compile(loss='mse',optimizer='rmsprop',metrics=['accuracy'])\n",
    "        return model"
   ]
  },
  {
   "cell_type": "code",
   "execution_count": 20,
   "metadata": {
    "collapsed": false
   },
   "outputs": [
    {
     "name": "stdout",
     "output_type": "stream",
     "text": [
      "X_train: (3952, 22, 3)\n",
      "y_train: (3952,)\n",
      "X_test: (439, 22, 3)\n",
      "y_test: (439,)\n"
     ]
    }
   ],
   "source": [
    "#Separate Data\n",
    "\n",
    "#Chosen the days when exchange is operating\n",
    "seq_length = 22\n",
    "X_train, y_train, X_test, y_test = load_data(data[::-1], seq_length)\n",
    "print(\"X_train:\", X_train.shape)\n",
    "print(\"y_train:\", y_train.shape)\n",
    "print(\"X_test:\", X_test.shape)\n",
    "print(\"y_test:\", y_test.shape)"
   ]
  },
  {
   "cell_type": "code",
   "execution_count": 21,
   "metadata": {
    "collapsed": false
   },
   "outputs": [],
   "source": [
    "# model = build_model([3,lag,1])\n",
    "model = seq2seq([3, seq_length ,1])"
   ]
  },
  {
   "cell_type": "code",
   "execution_count": 23,
   "metadata": {
    "collapsed": false,
    "scrolled": false
   },
   "outputs": [
    {
     "name": "stdout",
     "output_type": "stream",
     "text": [
      "Train on 3556 samples, validate on 396 samples\n",
      "Epoch 1/50\n",
      "3556/3556 [==============================] - 12s - loss: 4.8347e-04 - acc: 2.8121e-04 - val_loss: 9.9471e-05 - val_acc: 0.0000e+00\n",
      "Epoch 2/50\n",
      "3556/3556 [==============================] - 13s - loss: 4.1055e-04 - acc: 2.8121e-04 - val_loss: 6.1663e-05 - val_acc: 0.0000e+00\n",
      "Epoch 3/50\n",
      "3556/3556 [==============================] - 12s - loss: 5.4319e-04 - acc: 2.8121e-04 - val_loss: 8.9690e-05 - val_acc: 0.0000e+00\n",
      "Epoch 4/50\n",
      "3556/3556 [==============================] - 11s - loss: 4.1256e-04 - acc: 2.8121e-04 - val_loss: 2.8737e-04 - val_acc: 0.0000e+00\n",
      "Epoch 5/50\n",
      "3556/3556 [==============================] - 12s - loss: 3.9782e-04 - acc: 2.8121e-04 - val_loss: 1.1688e-04 - val_acc: 0.0000e+00\n",
      "Epoch 6/50\n",
      "3556/3556 [==============================] - 13s - loss: 3.6542e-04 - acc: 2.8121e-04 - val_loss: 7.0006e-05 - val_acc: 0.0000e+00\n",
      "Epoch 7/50\n",
      "3556/3556 [==============================] - 12s - loss: 4.6946e-04 - acc: 2.8121e-04 - val_loss: 5.9060e-05 - val_acc: 0.0000e+00\n",
      "Epoch 8/50\n",
      "3556/3556 [==============================] - 11s - loss: 4.4041e-04 - acc: 2.8121e-04 - val_loss: 6.1504e-05 - val_acc: 0.0000e+00\n",
      "Epoch 9/50\n",
      "3556/3556 [==============================] - 12s - loss: 3.3726e-04 - acc: 2.8121e-04 - val_loss: 0.0014 - val_acc: 0.0000e+00\n",
      "Epoch 10/50\n",
      "3556/3556 [==============================] - 12s - loss: 4.1497e-04 - acc: 2.8121e-04 - val_loss: 2.6541e-04 - val_acc: 0.0000e+00\n",
      "Epoch 11/50\n",
      "3556/3556 [==============================] - 12s - loss: 4.4356e-04 - acc: 2.8121e-04 - val_loss: 1.0022e-04 - val_acc: 0.0000e+00\n",
      "Epoch 12/50\n",
      "3556/3556 [==============================] - 12s - loss: 4.0874e-04 - acc: 2.8121e-04 - val_loss: 1.4798e-04 - val_acc: 0.0000e+00\n",
      "Epoch 13/50\n",
      "3556/3556 [==============================] - 13s - loss: 3.9109e-04 - acc: 2.8121e-04 - val_loss: 6.8494e-05 - val_acc: 0.0000e+00\n",
      "Epoch 14/50\n",
      "3556/3556 [==============================] - 14s - loss: 3.6659e-04 - acc: 2.8121e-04 - val_loss: 4.0091e-04 - val_acc: 0.0000e+00\n",
      "Epoch 15/50\n",
      "3556/3556 [==============================] - 14s - loss: 4.5997e-04 - acc: 2.8121e-04 - val_loss: 7.9055e-05 - val_acc: 0.0000e+00\n",
      "Epoch 16/50\n",
      "3556/3556 [==============================] - 13s - loss: 4.1663e-04 - acc: 2.8121e-04 - val_loss: 2.8019e-04 - val_acc: 0.0000e+00\n",
      "Epoch 17/50\n",
      "3556/3556 [==============================] - 14s - loss: 3.8383e-04 - acc: 2.8121e-04 - val_loss: 3.4232e-04 - val_acc: 0.0000e+00\n",
      "Epoch 18/50\n",
      "3556/3556 [==============================] - 13s - loss: 3.4067e-04 - acc: 2.8121e-04 - val_loss: 4.0716e-04 - val_acc: 0.0000e+00\n",
      "Epoch 19/50\n",
      "3556/3556 [==============================] - 12s - loss: 4.6914e-04 - acc: 2.8121e-04 - val_loss: 1.9723e-04 - val_acc: 0.0000e+00\n",
      "Epoch 20/50\n",
      "3556/3556 [==============================] - 11s - loss: 3.7558e-04 - acc: 2.8121e-04 - val_loss: 9.5340e-05 - val_acc: 0.0000e+00\n",
      "Epoch 21/50\n",
      "3556/3556 [==============================] - 11s - loss: 4.1489e-04 - acc: 2.8121e-04 - val_loss: 6.5724e-05 - val_acc: 0.0000e+00\n",
      "Epoch 22/50\n",
      "3556/3556 [==============================] - 11s - loss: 3.5250e-04 - acc: 2.8121e-04 - val_loss: 2.2134e-04 - val_acc: 0.0000e+00\n",
      "Epoch 23/50\n",
      "3556/3556 [==============================] - 11s - loss: 3.9991e-04 - acc: 2.8121e-04 - val_loss: 1.3210e-04 - val_acc: 0.0000e+00\n",
      "Epoch 24/50\n",
      "3556/3556 [==============================] - 12s - loss: 3.4064e-04 - acc: 2.8121e-04 - val_loss: 6.4916e-05 - val_acc: 0.0000e+00\n",
      "Epoch 25/50\n",
      "3556/3556 [==============================] - 12s - loss: 4.0407e-04 - acc: 2.8121e-04 - val_loss: 1.2222e-04 - val_acc: 0.0000e+00\n",
      "Epoch 26/50\n",
      "3556/3556 [==============================] - 12s - loss: 4.2353e-04 - acc: 2.8121e-04 - val_loss: 1.2146e-04 - val_acc: 0.0000e+00\n",
      "Epoch 27/50\n",
      "3556/3556 [==============================] - 12s - loss: 4.0713e-04 - acc: 2.8121e-04 - val_loss: 5.3664e-05 - val_acc: 0.0000e+00\n",
      "Epoch 28/50\n",
      "3556/3556 [==============================] - 12s - loss: 3.2577e-04 - acc: 2.8121e-04 - val_loss: 6.1699e-04 - val_acc: 0.0000e+00\n",
      "Epoch 29/50\n",
      "3556/3556 [==============================] - 12s - loss: 3.5734e-04 - acc: 2.8121e-04 - val_loss: 5.8770e-04 - val_acc: 0.0000e+00\n",
      "Epoch 30/50\n",
      "3556/3556 [==============================] - 12s - loss: 4.4411e-04 - acc: 2.8121e-04 - val_loss: 7.1604e-05 - val_acc: 0.0000e+00\n",
      "Epoch 31/50\n",
      "3556/3556 [==============================] - 12s - loss: 3.3065e-04 - acc: 2.8121e-04 - val_loss: 0.0010 - val_acc: 0.0000e+00\n",
      "Epoch 32/50\n",
      "3556/3556 [==============================] - 12s - loss: 3.3225e-04 - acc: 2.8121e-04 - val_loss: 7.5586e-05 - val_acc: 0.0000e+00\n",
      "Epoch 33/50\n",
      "3556/3556 [==============================] - 12s - loss: 3.6589e-04 - acc: 2.8121e-04 - val_loss: 1.0551e-04 - val_acc: 0.0000e+00\n",
      "Epoch 34/50\n",
      "3556/3556 [==============================] - 13s - loss: 3.5763e-04 - acc: 2.8121e-04 - val_loss: 1.4415e-04 - val_acc: 0.0000e+00\n",
      "Epoch 35/50\n",
      "3556/3556 [==============================] - 11s - loss: 4.0427e-04 - acc: 2.8121e-04 - val_loss: 5.3180e-05 - val_acc: 0.0000e+00\n",
      "Epoch 36/50\n",
      "3556/3556 [==============================] - 11s - loss: 4.1247e-04 - acc: 2.8121e-04 - val_loss: 6.7653e-05 - val_acc: 0.0000e+00\n",
      "Epoch 37/50\n",
      "3556/3556 [==============================] - 12s - loss: 3.5156e-04 - acc: 2.8121e-04 - val_loss: 5.2622e-05 - val_acc: 0.0000e+00\n",
      "Epoch 38/50\n",
      "3556/3556 [==============================] - 11s - loss: 3.7589e-04 - acc: 2.8121e-04 - val_loss: 5.6345e-05 - val_acc: 0.0000e+00\n",
      "Epoch 39/50\n",
      "3556/3556 [==============================] - 11s - loss: 3.2226e-04 - acc: 2.8121e-04 - val_loss: 1.7897e-04 - val_acc: 0.0000e+00\n",
      "Epoch 40/50\n",
      "3556/3556 [==============================] - 11s - loss: 4.0257e-04 - acc: 2.8121e-04 - val_loss: 5.5777e-05 - val_acc: 0.0000e+00\n",
      "Epoch 41/50\n",
      "3556/3556 [==============================] - 11s - loss: 3.5232e-04 - acc: 2.8121e-04 - val_loss: 1.6538e-04 - val_acc: 0.0000e+00\n",
      "Epoch 42/50\n",
      "3556/3556 [==============================] - 11s - loss: 3.2959e-04 - acc: 2.8121e-04 - val_loss: 4.8941e-04 - val_acc: 0.0000e+00\n",
      "Epoch 43/50\n",
      "3556/3556 [==============================] - 11s - loss: 3.5609e-04 - acc: 2.8121e-04 - val_loss: 9.4884e-05 - val_acc: 0.0000e+00\n",
      "Epoch 44/50\n",
      "3556/3556 [==============================] - 11s - loss: 4.0330e-04 - acc: 2.8121e-04 - val_loss: 1.9501e-04 - val_acc: 0.0000e+00\n",
      "Epoch 45/50\n",
      "3556/3556 [==============================] - 11s - loss: 2.7479e-04 - acc: 2.8121e-04 - val_loss: 8.4370e-05 - val_acc: 0.0000e+00\n",
      "Epoch 46/50\n",
      "3556/3556 [==============================] - 11s - loss: 2.9437e-04 - acc: 2.8121e-04 - val_loss: 6.4449e-05 - val_acc: 0.0000e+00\n",
      "Epoch 47/50\n",
      "3556/3556 [==============================] - 11s - loss: 4.1280e-04 - acc: 2.8121e-04 - val_loss: 9.8115e-05 - val_acc: 0.0000e+00\n",
      "Epoch 48/50\n",
      "3556/3556 [==============================] - 11s - loss: 3.8602e-04 - acc: 2.8121e-04 - val_loss: 4.7907e-04 - val_acc: 0.0000e+00\n",
      "Epoch 49/50\n",
      "3556/3556 [==============================] - 11s - loss: 3.2615e-04 - acc: 2.8121e-04 - val_loss: 5.2031e-05 - val_acc: 0.0000e+00\n",
      "Epoch 50/50\n",
      "3556/3556 [==============================] - 11s - loss: 3.7156e-04 - acc: 2.8121e-04 - val_loss: 1.1085e-04 - val_acc: 0.0000e+00\n"
     ]
    },
    {
     "data": {
      "text/plain": [
       "<keras.callbacks.History at 0x20082d94be0>"
      ]
     },
     "execution_count": 23,
     "metadata": {},
     "output_type": "execute_result"
    }
   ],
   "source": [
    "#Fit model and train\n",
    "\n",
    "model.fit(\n",
    "    X_train,\n",
    "    y_train,\n",
    "    batch_size=256,\n",
    "    nb_epoch=50,\n",
    "    validation_split=0.1,\n",
    "    verbose=1)"
   ]
  },
  {
   "cell_type": "code",
   "execution_count": 24,
   "metadata": {
    "collapsed": false
   },
   "outputs": [
    {
     "name": "stdout",
     "output_type": "stream",
     "text": [
      "Train Score: 0.00 MSE (0.02 RMSE)\n",
      "Test Score: 0.00 MSE (0.02 RMSE)\n"
     ]
    }
   ],
   "source": [
    "#Score\n",
    "\n",
    "trainScore = model.evaluate(X_train, y_train, verbose=0)\n",
    "print('Train Score: %.2f MSE (%.2f RMSE)' % (trainScore[0], math.sqrt(trainScore[0])))\n",
    "\n",
    "testScore = model.evaluate(X_test, y_test, verbose=0)\n",
    "print('Test Score: %.2f MSE (%.2f RMSE)' % (testScore[0], math.sqrt(testScore[0])))"
   ]
  },
  {
   "cell_type": "code",
   "execution_count": 27,
   "metadata": {
    "collapsed": false
   },
   "outputs": [
    {
     "name": "stdout",
     "output_type": "stream",
     "text": [
      "X_train (3952, 22, 3)\n",
      "y_train (3952,)\n",
      "X_test (439, 22, 3)\n",
      "y_test (439,)\n"
     ]
    }
   ],
   "source": [
    "get_stock_data(stock_name, 0 , False)\n",
    "window = 22\n",
    "X_train, y_train, X_test, y_test = load_data(data[::-1], window)\n",
    "print(\"X_train\", X_train.shape)\n",
    "print(\"y_train\", y_train.shape)\n",
    "print(\"X_test\", X_test.shape)\n",
    "print(\"y_test\", y_test.shape)"
   ]
  },
  {
   "cell_type": "code",
   "execution_count": 32,
   "metadata": {
    "collapsed": false,
    "scrolled": false
   },
   "outputs": [
    {
     "name": "stdout",
     "output_type": "stream",
     "text": [
      "[[[ 0.435     0.4399    0.4348  ]\n",
      "  [ 0.4362    0.4447    0.4411  ]\n",
      "  [ 0.4338    0.4405    0.439   ]\n",
      "  ..., \n",
      "  [ 0.4701    0.4703    0.4701  ]\n",
      "  [ 0.4702    0.4754    0.4751  ]\n",
      "  [ 0.4742    0.4788    0.4762  ]]\n",
      "\n",
      " [[ 0.4362    0.4447    0.4411  ]\n",
      "  [ 0.4338    0.4405    0.439   ]\n",
      "  [ 0.4393    0.4417    0.4387  ]\n",
      "  ..., \n",
      "  [ 0.4702    0.4754    0.4751  ]\n",
      "  [ 0.4742    0.4788    0.4762  ]\n",
      "  [ 0.4744    0.4781    0.4777  ]]\n",
      "\n",
      " [[ 0.4338    0.4405    0.439   ]\n",
      "  [ 0.4393    0.4417    0.4387  ]\n",
      "  [ 0.4345    0.4413    0.4391  ]\n",
      "  ..., \n",
      "  [ 0.4742    0.4788    0.4762  ]\n",
      "  [ 0.4744    0.4781    0.4777  ]\n",
      "  [ 0.4792    0.4799    0.472   ]]\n",
      "\n",
      " ..., \n",
      " [[ 0.7002    0.7082    0.7065  ]\n",
      "  [ 0.7091    0.711     0.7027  ]\n",
      "  [ 0.6927    0.7021    0.699   ]\n",
      "  ..., \n",
      "  [ 0.7       0.7068    0.6999  ]\n",
      "  [ 0.7069    0.7128    0.7115  ]\n",
      "  [ 0.715     0.720399  0.7177  ]]\n",
      "\n",
      " [[ 0.7091    0.711     0.7027  ]\n",
      "  [ 0.6927    0.7021    0.699   ]\n",
      "  [ 0.6973    0.7003    0.7     ]\n",
      "  ..., \n",
      "  [ 0.7069    0.7128    0.7115  ]\n",
      "  [ 0.715     0.720399  0.7177  ]\n",
      "  [ 0.7224    0.7327    0.7278  ]]\n",
      "\n",
      " [[ 0.6927    0.7021    0.699   ]\n",
      "  [ 0.6973    0.7003    0.7     ]\n",
      "  [ 0.705     0.7094    0.7087  ]\n",
      "  ..., \n",
      "  [ 0.715     0.720399  0.7177  ]\n",
      "  [ 0.7224    0.7327    0.7278  ]\n",
      "  [ 0.728     0.7345    0.7335  ]]]\n",
      "[ 0.4777   0.472    0.4803   0.5287   0.5425   0.5369   0.5398   0.5336\n",
      "  0.5264   0.5324   0.5415   0.544    0.5438   0.5492   0.5416   0.5351\n",
      "  0.5365   0.5332   0.5284   0.53765  0.5297   0.5385   0.5394   0.5419\n",
      "  0.5419   0.5425   0.5369   0.5393   0.5435   0.5522   0.5521   0.542\n",
      "  0.5591   0.5581   0.5579   0.5498   0.5527   0.5406   0.5514   0.552\n",
      "  0.5613   0.557    0.5413   0.5483   0.5535   0.5582   0.5567   0.5595\n",
      "  0.5655   0.5631   0.5548   0.548    0.5505   0.5405   0.5217   0.5233\n",
      "  0.523    0.5278   0.5164   0.5311   0.5099   0.5056   0.5079   0.5048\n",
      "  0.5229   0.5179   0.5217   0.5122   0.52055  0.5509   0.5471   0.53\n",
      "  0.5216   0.52     0.5016   0.4941   0.4928   0.4971   0.4969   0.505\n",
      "  0.5109   0.5242   0.5219   0.5182   0.5265   0.5118   0.5136   0.521\n",
      "  0.513    0.5088   0.5258   0.5295   0.5235   0.5203   0.5103   0.5165\n",
      "  0.5284   0.5205   0.5307   0.5317   0.5359   0.5435   0.5466   0.5349\n",
      "  0.5386   0.5407   0.5397   0.5421   0.5354   0.5471   0.5505   0.5523\n",
      "  0.5557   0.5543   0.5456   0.5512   0.5446   0.5442   0.5431   0.5465\n",
      "  0.5535   0.5536   0.5565   0.5646   0.5639   0.5559   0.5578   0.5178\n",
      "  0.5211   0.5144   0.5094   0.499    0.4987   0.5061   0.4978   0.4987\n",
      "  0.4994   0.5039   0.5007   0.5102   0.5105   0.5151   0.5108   0.5183\n",
      "  0.5051   0.5081   0.5032   0.5062   0.5003   0.5159   0.5212   0.5189\n",
      "  0.5232   0.53     0.5285   0.5248   0.5179   0.5213   0.521    0.5204\n",
      "  0.5162   0.5148   0.5014   0.4983   0.4969   0.5039   0.5013   0.5007\n",
      "  0.5119   0.5099   0.5191   0.4983   0.4843   0.4944   0.5054   0.5117\n",
      "  0.5116   0.5117   0.5138   0.5138   0.523    0.5259   0.5321   0.5351\n",
      "  0.5374   0.537    0.5396   0.5309   0.5591   0.558    0.5657   0.5673\n",
      "  0.5676   0.5619   0.5621   0.5668   0.5658   0.5658   0.5697   0.5739\n",
      "  0.5796   0.5806   0.582    0.5802   0.583    0.5794   0.5812   0.5744\n",
      "  0.5756   0.576    0.5762   0.5767   0.5789   0.5795   0.5817   0.5803\n",
      "  0.581    0.5789   0.5746   0.5759   0.5767   0.5761   0.5766   0.5743\n",
      "  0.5621   0.5705   0.5653   0.5626   0.5719   0.5725   0.5693   0.5681\n",
      "  0.5776   0.5782   0.5743   0.569    0.5795   0.5803   0.574    0.576\n",
      "  0.5742   0.5724   0.5764   0.5774   0.578    0.5804   0.5719   0.5711\n",
      "  0.5692   0.5742   0.5722   0.5766   0.5753   0.5725   0.5966   0.61\n",
      "  0.6099   0.6063   0.601    0.5987   0.5992   0.598    0.5943   0.5921\n",
      "  0.5871   0.6042   0.6047   0.6017   0.587    0.5902   0.5812   0.5887\n",
      "  0.5965   0.6064   0.6035   0.6086   0.6112   0.604    0.6053   0.6061\n",
      "  0.6109   0.6026   0.592    0.5925   0.6022   0.5995   0.6137   0.6101\n",
      "  0.6197   0.6217   0.6298   0.6268   0.6258   0.623    0.6362   0.6354\n",
      "  0.6354   0.6355   0.6324   0.6328   0.6299   0.629    0.6214   0.6258\n",
      "  0.623    0.623    0.6284   0.6264   0.6262   0.6319   0.6261   0.627\n",
      "  0.6253   0.625    0.623    0.6274   0.6296   0.6352   0.6368   0.6427\n",
      "  0.6578   0.6513   0.6465   0.6358   0.6317   0.6368   0.6364   0.6343\n",
      "  0.6334   0.6406   0.64     0.6472   0.6457   0.6453   0.6452   0.6462\n",
      "  0.6449   0.6436   0.6462   0.6462   0.6423   0.6398   0.6494   0.6401\n",
      "  0.6425   0.6427   0.644    0.6499   0.6473   0.6493   0.6471   0.6441\n",
      "  0.6475   0.6464   0.6487   0.6493   0.6421   0.6503   0.6487   0.6498\n",
      "  0.651    0.6529   0.6547   0.6571   0.6586   0.6555   0.6573   0.6556\n",
      "  0.6573   0.6568   0.6553   0.6548   0.6523   0.6495   0.6548   0.6539\n",
      "  0.6504   0.655    0.664    0.6753   0.6792   0.6783   0.6827   0.6846\n",
      "  0.6941   0.693    0.6908   0.6881   0.69     0.6894   0.6904   0.6931\n",
      "  0.6846   0.6838   0.6843   0.6941   0.6748   0.6771   0.6769   0.6845\n",
      "  0.6868   0.6877   0.6962   0.6996   0.7041   0.6984   0.701    0.7176\n",
      "  0.7228   0.7252   0.7239   0.7195   0.7032   0.6978   0.7065   0.7027\n",
      "  0.699    0.7      0.7087   0.6991   0.7027   0.7026   0.7121   0.7053\n",
      "  0.6921   0.698    0.6849   0.6893   0.6817   0.6908   0.6857   0.6946\n",
      "  0.6998   0.6999   0.7115   0.7177   0.7278   0.7335   0.733  ]\n"
     ]
    }
   ],
   "source": [
    "print(X_test)\n",
    "print(y_test)\n",
    "#getPredictionData('TSLA',0)\n",
    "window = 22\n",
    "diff=[]\n",
    "ratio=[]\n",
    "p = model.predict(X_test)\n",
    "\n",
    "for u in range(0, len(X_test)):\n",
    "    pr = p[u][0]\n",
    "    ratio.append((y_test[u]/pr)-1)\n",
    "    diff.append(abs(y_test[u]- pr))\n",
    "    #print(u, y_test[u], pr, (y_test[u]/pr)-1, abs(y_test[u]- pr))\n",
    "        "
   ]
  },
  {
   "cell_type": "code",
   "execution_count": 31,
   "metadata": {
    "collapsed": false
   },
   "outputs": [
    {
     "name": "stdout",
     "output_type": "stream",
     "text": [
      "Expected value:  73.3\n",
      "Last Input:  [[ 69.27    70.21    69.9   ]\n",
      " [ 69.73    70.03    70.    ]\n",
      " [ 70.5     70.94    70.87  ]\n",
      " [ 70.82    70.87    69.91  ]\n",
      " [ 70.21    70.62    70.27  ]\n",
      " [ 70.54    70.59    70.26  ]\n",
      " [ 70.09    71.25    71.21  ]\n",
      " [ 71.4     71.71    70.53  ]\n",
      " [ 70.11    70.18    69.21  ]\n",
      " [ 69.21    69.841   69.8   ]\n",
      " [ 69.38    69.49    68.49  ]\n",
      " [ 68.78    69.38    68.93  ]\n",
      " [ 69.33    69.6     68.17  ]\n",
      " [ 68.255   69.44    69.08  ]\n",
      " [ 68.27    68.78    68.57  ]\n",
      " [ 68.7     69.84    69.46  ]\n",
      " [ 69.46    70.25    69.98  ]\n",
      " [ 70.      70.68    69.99  ]\n",
      " [ 70.69    71.28    71.15  ]\n",
      " [ 71.5     72.0399  71.77  ]\n",
      " [ 72.24    73.27    72.78  ]\n",
      " [ 72.8     73.45    73.35  ]]\n",
      "Last Prediction:  [ 69.53839111]\n"
     ]
    },
    {
     "data": {
      "image/png": "[encoded data removed]",
      "text/plain": [
       "<matplotlib.figure.Figure at 0x200844cbac8>"
      ]
     },
     "metadata": {},
     "output_type": "display_data"
    }
   ],
   "source": [
    "import matplotlib.pyplot as plt2\n",
    "print(\"Expected value: \",(y_test[-1] * 100))\n",
    "print(\"Last Input: \",(X_test[-1] * 100))\n",
    "print(\"Last Prediction: \",(p[-1] * 100))\n",
    "plt2.plot(p ,color='red', label='prediction')\n",
    "plt2.plot(y_test ,color='blue', label='y_test')\n",
    "\n",
    "#plt2.legend(loc='upper left')\n",
    "plt2.show()"
   ]
  },
  {
   "cell_type": "code",
   "execution_count": null,
   "metadata": {
    "collapsed": false
   },
   "outputs": [],
   "source": []
  },
  {
   "cell_type": "code",
   "execution_count": null,
   "metadata": {
    "collapsed": false
   },
   "outputs": [],
   "source": []
  },
  {
   "cell_type": "code",
   "execution_count": null,
   "metadata": {
    "collapsed": true
   },
   "outputs": [],
   "source": []
  },
  {
   "cell_type": "code",
   "execution_count": null,
   "metadata": {
    "collapsed": false
   },
   "outputs": [],
   "source": [
    "\n",
    "\n"
   ]
  },
  {
   "cell_type": "code",
   "execution_count": null,
   "metadata": {
    "collapsed": false,
    "scrolled": true
   },
   "outputs": [],
   "source": []
  },
  {
   "cell_type": "code",
   "execution_count": null,
   "metadata": {
    "collapsed": false,
    "scrolled": true
   },
   "outputs": [],
   "source": [
    "\n"
   ]
  },
  {
   "cell_type": "code",
   "execution_count": null,
   "metadata": {
    "collapsed": true
   },
   "outputs": [],
   "source": [
    "\n"
   ]
  },
  {
   "cell_type": "code",
   "execution_count": null,
   "metadata": {
    "collapsed": true
   },
   "outputs": [],
   "source": []
  }
 ],
 "metadata": {
  "anaconda-cloud": {},
  "kernelspec": {
   "display_name": "Python [Root]",
   "language": "python",
   "name": "Python [Root]"
  },
  "language_info": {
   "codemirror_mode": {
    "name": "ipython",
    "version": 3
   },
   "file_extension": ".py",
   "mimetype": "text/x-python",
   "name": "python",
   "nbconvert_exporter": "python",
   "pygments_lexer": "ipython3",
   "version": "3.5.2"
  }
 },
 "nbformat": 4,
 "nbformat_minor": 2
}
